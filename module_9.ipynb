{
 "cells": [
  {
   "cell_type": "markdown",
   "metadata": {
    "papermill": {
     "duration": 0.071664,
     "end_time": "2020-12-01T23:03:08.948271",
     "exception": false,
     "start_time": "2020-12-01T23:03:08.876607",
     "status": "completed"
    },
    "tags": []
   },
   "source": [
    "# Car Price prediction\n",
    "\n",
    "<img src=\"https://whatcar.vn/media/2018/09/car-lot-940x470.jpg\"/>\n",
    "\n",
    "## Прогнозирование стоимости автомобиля по характеристикам"
   ]
  },
  {
   "cell_type": "markdown",
   "metadata": {
    "papermill": {
     "duration": 0.06686,
     "end_time": "2020-12-01T23:03:09.082820",
     "exception": false,
     "start_time": "2020-12-01T23:03:09.015960",
     "status": "completed"
    },
    "tags": []
   },
   "source": [
    "## Cделаем следующее:\n",
    "* Построим \"наивную\"/baseline модель, предсказывающую цену по модели и году выпуска (с ней будем сравнивать другие модели)\n",
    "* Обработаем и отнормируем признаки\n",
    "* Сделаем первую модель на основе градиентного бустинга с помощью CatBoost\n",
    "* Сделаем вторую модель на основе нейронных сетей и сравним результаты\n",
    "* Сделаем multi-input нейронную сеть для анализа табличных данных и текста одновременно\n",
    "* Добавим в multi-input сеть обработку изображений\n",
    "* Осуществим ансамблирование градиентного бустинга и нейронной сети (усреднение их предсказаний)"
   ]
  },
  {
   "cell_type": "code",
   "execution_count": null,
   "metadata": {
    "_cell_guid": "b1076dfc-b9ad-4769-8c92-a6c4dae69d19",
    "_kg_hide-input": true,
    "_uuid": "8f2839f25d086af736a60e9eeb907d3b93b6e0e5",
    "execution": {
     "iopub.execute_input": "2020-12-01T23:03:26.316966Z",
     "iopub.status.busy": "2020-12-01T23:03:26.315350Z",
     "iopub.status.idle": "2020-12-01T23:03:33.838496Z",
     "shell.execute_reply": "2020-12-01T23:03:33.837752Z"
    },
    "papermill": {
     "duration": 7.652614,
     "end_time": "2020-12-01T23:03:33.838610",
     "exception": false,
     "start_time": "2020-12-01T23:03:26.185996",
     "status": "completed"
    },
    "tags": []
   },
   "outputs": [],
   "source": [
    "import random\n",
    "import numpy as np\n",
    "import pandas as pd\n",
    "import os\n",
    "import sys\n",
    "import PIL\n",
    "import cv2\n",
    "import re\n",
    "from catboost import CatBoostRegressor\n",
    "from sklearn.model_selection import train_test_split\n",
    "from sklearn.preprocessing import MinMaxScaler\n",
    "import tensorflow as tf\n",
    "import tensorflow.keras.layers as L\n",
    "from tensorflow.keras.models import Model, Sequential\n",
    "from tensorflow.keras.preprocessing.text import Tokenizer\n",
    "from tensorflow.keras.preprocessing import sequence\n",
    "from tensorflow.keras.callbacks import ModelCheckpoint, EarlyStopping\n",
    "import albumentations\n",
    "import matplotlib.pyplot as plt\n",
    "#увеличим дефолтный размер графиков\n",
    "from pylab import rcParams\n",
    "rcParams['figure.figsize'] = 10, 5\n",
    "#графики в svg выглядят более четкими\n",
    "%config InlineBackend.figure_format = 'svg' \n",
    "%matplotlib inline"
   ]
  },
  {
   "cell_type": "code",
   "execution_count": null,
   "metadata": {},
   "outputs": [],
   "source": [
    "# фиксируем RANDOM_SEED, чтобы наши эксперименты были воспроизводимы!\n",
    "RANDOM_SEED = 42\n",
    "np.random.seed(RANDOM_SEED)"
   ]
  },
  {
   "cell_type": "code",
   "execution_count": null,
   "metadata": {
    "_kg_hide-input": true,
    "execution": {
     "iopub.execute_input": "2020-12-01T23:03:34.131482Z",
     "iopub.status.busy": "2020-12-01T23:03:34.130857Z",
     "iopub.status.idle": "2020-12-01T23:03:34.134968Z",
     "shell.execute_reply": "2020-12-01T23:03:34.134454Z"
    },
    "papermill": {
     "duration": 0.075881,
     "end_time": "2020-12-01T23:03:34.135087",
     "exception": false,
     "start_time": "2020-12-01T23:03:34.059206",
     "status": "completed"
    },
    "tags": []
   },
   "outputs": [],
   "source": [
    "def mape(y_true, y_pred):\n",
    "    return np.mean(np.abs((y_pred-y_true)/y_true))"
   ]
  },
  {
   "cell_type": "code",
   "execution_count": null,
   "metadata": {
    "_kg_hide-input": true,
    "execution": {
     "iopub.execute_input": "2020-12-01T23:03:34.427965Z",
     "iopub.status.busy": "2020-12-01T23:03:34.427098Z",
     "iopub.status.idle": "2020-12-01T23:03:36.717060Z",
     "shell.execute_reply": "2020-12-01T23:03:36.716062Z"
    },
    "papermill": {
     "duration": 2.362564,
     "end_time": "2020-12-01T23:03:36.717208",
     "exception": false,
     "start_time": "2020-12-01T23:03:34.354644",
     "status": "completed"
    },
    "tags": []
   },
   "outputs": [],
   "source": [
    "!pip freeze > requirements.txt"
   ]
  },
  {
   "cell_type": "markdown",
   "metadata": {
    "papermill": {
     "duration": 0.073069,
     "end_time": "2020-12-01T23:03:36.862195",
     "exception": false,
     "start_time": "2020-12-01T23:03:36.789126",
     "status": "completed"
    },
    "tags": []
   },
   "source": [
    "# DATA"
   ]
  },
  {
   "cell_type": "markdown",
   "metadata": {
    "papermill": {
     "duration": 0.086321,
     "end_time": "2020-12-01T23:03:37.018622",
     "exception": false,
     "start_time": "2020-12-01T23:03:36.932301",
     "status": "completed"
    },
    "tags": []
   },
   "source": [
    "Посмотрим на типы признаков:\n",
    "\n",
    "* bodyType - категориальный\n",
    "* brand - категориальный\n",
    "* color - категориальный\n",
    "* description - текстовый\n",
    "* engineDisplacement - числовой, представленный как текст\n",
    "* enginePower - числовой, представленный как текст\n",
    "* fuelType - категориальный\n",
    "* mileage - числовой\n",
    "* modelDate - числовой\n",
    "* model_info - категориальный\n",
    "* name - категориальный, желательно сократить размерность\n",
    "* numberOfDoors - категориальный\n",
    "* price - числовой, целевой\n",
    "* productionDate - числовой\n",
    "* sell_id - изображение (файл доступен по адресу, основанному на sell_id)\n",
    "* vehicleConfiguration - не используется (комбинация других столбцов)\n",
    "* vehicleTransmission - категориальный\n",
    "* Владельцы - категориальный\n",
    "* Владение - числовой, представленный как текст\n",
    "* ПТС - категориальный\n",
    "* Привод - категориальный\n",
    "* Руль - категориальный"
   ]
  },
  {
   "cell_type": "code",
   "execution_count": null,
   "metadata": {
    "_cell_guid": "79c7e3d0-c299-4dcb-8224-4455121ee9b0",
    "_uuid": "d629ff2d2480ee46fbb7e2d37f6b5fab8052498a",
    "execution": {
     "iopub.execute_input": "2020-12-01T23:03:37.242081Z",
     "iopub.status.busy": "2020-12-01T23:03:37.241201Z",
     "iopub.status.idle": "2020-12-01T23:03:37.551630Z",
     "shell.execute_reply": "2020-12-01T23:03:37.552436Z"
    },
    "papermill": {
     "duration": 0.422714,
     "end_time": "2020-12-01T23:03:37.552625",
     "exception": false,
     "start_time": "2020-12-01T23:03:37.129911",
     "status": "completed"
    },
    "tags": []
   },
   "outputs": [],
   "source": [
    "DATA_DIR = './sf-dst-car-price-prediction-part2/'\n",
    "train = pd.read_csv(DATA_DIR + 'train.csv')\n",
    "test = pd.read_csv(DATA_DIR + 'test.csv')\n",
    "sample_submission = pd.read_csv(DATA_DIR + 'sample_submission.csv')"
   ]
  },
  {
   "cell_type": "code",
   "execution_count": null,
   "metadata": {
    "execution": {
     "iopub.execute_input": "2020-12-01T23:03:37.823865Z",
     "iopub.status.busy": "2020-12-01T23:03:37.822990Z",
     "iopub.status.idle": "2020-12-01T23:03:37.841944Z",
     "shell.execute_reply": "2020-12-01T23:03:37.842891Z"
    },
    "papermill": {
     "duration": 0.172561,
     "end_time": "2020-12-01T23:03:37.843043",
     "exception": false,
     "start_time": "2020-12-01T23:03:37.670482",
     "status": "completed"
    },
    "tags": []
   },
   "outputs": [],
   "source": [
    "train.info()"
   ]
  },
  {
   "cell_type": "code",
   "execution_count": null,
   "metadata": {
    "execution": {
     "iopub.execute_input": "2020-12-01T23:03:38.059866Z",
     "iopub.status.busy": "2020-12-01T23:03:38.058951Z",
     "iopub.status.idle": "2020-12-01T23:03:38.154570Z",
     "shell.execute_reply": "2020-12-01T23:03:38.155637Z"
    },
    "papermill": {
     "duration": 0.205269,
     "end_time": "2020-12-01T23:03:38.155821",
     "exception": false,
     "start_time": "2020-12-01T23:03:37.950552",
     "status": "completed"
    },
    "tags": []
   },
   "outputs": [],
   "source": [
    "train.nunique()"
   ]
  },
  {
   "cell_type": "markdown",
   "metadata": {
    "papermill": {
     "duration": 0.071369,
     "end_time": "2020-12-01T23:03:38.338657",
     "exception": false,
     "start_time": "2020-12-01T23:03:38.267288",
     "status": "completed"
    },
    "tags": []
   },
   "source": [
    "# Model 1: Создадим \"наивную\" модель \n",
    "Эта модель будет предсказывать среднюю цену по модели и году выпуска. \n",
    "C ней будем сравнивать другие модели.\n",
    "\n"
   ]
  },
  {
   "cell_type": "code",
   "execution_count": null,
   "metadata": {
    "execution": {
     "iopub.execute_input": "2020-12-01T23:03:38.489184Z",
     "iopub.status.busy": "2020-12-01T23:03:38.487971Z",
     "iopub.status.idle": "2020-12-01T23:03:38.497092Z",
     "shell.execute_reply": "2020-12-01T23:03:38.497594Z"
    },
    "papermill": {
     "duration": 0.087481,
     "end_time": "2020-12-01T23:03:38.497734",
     "exception": false,
     "start_time": "2020-12-01T23:03:38.410253",
     "status": "completed"
    },
    "tags": []
   },
   "outputs": [],
   "source": [
    "# split данных\n",
    "data_train, data_test = train_test_split(train, test_size=0.15, shuffle=True, random_state=RANDOM_SEED)"
   ]
  },
  {
   "cell_type": "code",
   "execution_count": null,
   "metadata": {
    "execution": {
     "iopub.execute_input": "2020-12-01T23:03:38.651807Z",
     "iopub.status.busy": "2020-12-01T23:03:38.650965Z",
     "iopub.status.idle": "2020-12-01T23:03:42.777752Z",
     "shell.execute_reply": "2020-12-01T23:03:42.778473Z"
    },
    "papermill": {
     "duration": 4.209393,
     "end_time": "2020-12-01T23:03:42.778620",
     "exception": false,
     "start_time": "2020-12-01T23:03:38.569227",
     "status": "completed"
    },
    "tags": []
   },
   "outputs": [],
   "source": [
    "# Наивная модель\n",
    "predicts = []\n",
    "for index, row in pd.DataFrame(data_test[['model_info', 'productionDate']]).iterrows():\n",
    "    query = f\"model_info == '{row[0]}' and productionDate == '{row[1]}'\"\n",
    "    predicts.append(data_train.query(query)['price'].median())\n",
    "\n",
    "# заполним не найденные совпадения\n",
    "predicts = pd.DataFrame(predicts)\n",
    "predicts = predicts.fillna(predicts.median())\n",
    "\n",
    "# округлим\n",
    "predicts = (predicts // 1000) * 1000\n",
    "\n",
    "#оцениваем точность\n",
    "print(f\"Точность наивной модели по метрике MAPE: {(mape(data_test['price'], predicts.values[:, 0]))*100:0.2f}%\")"
   ]
  },
  {
   "cell_type": "markdown",
   "metadata": {
    "papermill": {
     "duration": 0.071964,
     "end_time": "2020-12-01T23:03:42.932523",
     "exception": false,
     "start_time": "2020-12-01T23:03:42.860559",
     "status": "completed"
    },
    "tags": []
   },
   "source": [
    "# EDA"
   ]
  },
  {
   "cell_type": "markdown",
   "metadata": {
    "papermill": {
     "duration": 0.072442,
     "end_time": "2020-12-01T23:03:43.089423",
     "exception": false,
     "start_time": "2020-12-01T23:03:43.016981",
     "status": "completed"
    },
    "tags": []
   },
   "source": [
    "Проведем быстрый анализ данных для того, чтобы понимать, сможет ли с этими данными работать наш алгоритм."
   ]
  },
  {
   "cell_type": "markdown",
   "metadata": {
    "papermill": {
     "duration": 0.070865,
     "end_time": "2020-12-01T23:03:43.234947",
     "exception": false,
     "start_time": "2020-12-01T23:03:43.164082",
     "status": "completed"
    },
    "tags": []
   },
   "source": [
    "Посмотрим, как выглядят распределения числовых признаков:"
   ]
  },
  {
   "cell_type": "code",
   "execution_count": null,
   "metadata": {
    "_kg_hide-input": true,
    "execution": {
     "iopub.execute_input": "2020-12-01T23:03:43.390512Z",
     "iopub.status.busy": "2020-12-01T23:03:43.389748Z",
     "iopub.status.idle": "2020-12-01T23:03:44.012291Z",
     "shell.execute_reply": "2020-12-01T23:03:44.011700Z"
    },
    "papermill": {
     "duration": 0.705135,
     "end_time": "2020-12-01T23:03:44.012405",
     "exception": false,
     "start_time": "2020-12-01T23:03:43.307270",
     "status": "completed"
    },
    "tags": []
   },
   "outputs": [],
   "source": [
    "#посмотрим, как выглядят распределения числовых признаков\n",
    "def visualize_distributions(titles_values_dict):\n",
    "    columns = min(3, len(titles_values_dict))\n",
    "    rows = (len(titles_values_dict) - 1) // columns + 1\n",
    "    fig = plt.figure(figsize = (columns * 6, rows * 4))\n",
    "    for i, (title, values) in enumerate(titles_values_dict.items()):\n",
    "        hist, bins = np.histogram(values, bins = 20)\n",
    "        ax = fig.add_subplot(rows, columns, i + 1)\n",
    "        ax.bar(bins[:-1], hist, width = (bins[1] - bins[0]) * 0.7)\n",
    "        ax.set_title(title)\n",
    "    plt.show()\n",
    "\n",
    "visualize_distributions({\n",
    "    'mileage': train['mileage'].dropna(),\n",
    "    'modelDate': train['modelDate'].dropna(),\n",
    "    'productionDate': train['productionDate'].dropna()\n",
    "})"
   ]
  },
  {
   "cell_type": "markdown",
   "metadata": {
    "papermill": {
     "duration": 0.075777,
     "end_time": "2020-12-01T23:03:44.172811",
     "exception": false,
     "start_time": "2020-12-01T23:03:44.097034",
     "status": "completed"
    },
    "tags": []
   },
   "source": [
    "Итого:\n",
    "* CatBoost сможет работать с признаками и в таком виде, но для нейросети нужны нормированные данные."
   ]
  },
  {
   "cell_type": "code",
   "execution_count": null,
   "metadata": {
    "execution": {
     "iopub.execute_input": "2020-12-01T23:03:44.358573Z",
     "iopub.status.busy": "2020-12-01T23:03:44.357880Z",
     "iopub.status.idle": "2020-12-01T23:03:44.385226Z",
     "shell.execute_reply": "2020-12-01T23:03:44.384373Z"
    },
    "papermill": {
     "duration": 0.135349,
     "end_time": "2020-12-01T23:03:44.385340",
     "exception": false,
     "start_time": "2020-12-01T23:03:44.249991",
     "status": "completed"
    },
    "tags": []
   },
   "outputs": [],
   "source": [
    "train['engineDisplacement'] = train['engineDisplacement'].str.split().apply(lambda s: s[0]) \n",
    "\n",
    "train.loc[train.engineDisplacement=='undefined', 'engineDisplacement'] = '2.0' \n",
    "train.loc[train.engineDisplacement=='0.7', 'engineDisplacement'] = '1.0' \n",
    "train['engineDisplacement'] = train['engineDisplacement'].apply(lambda s: float(s)) \n",
    "\n",
    "train['enginePower'] = train['enginePower'].str.split().apply(lambda s: s[0]) \n",
    "train['enginePower'] = train['enginePower'].apply(lambda s: float(s))\n",
    "\n",
    "train['modelDate']=2021-train['modelDate'] \n",
    "\n",
    "train.drop(['name', 'vehicleConfiguration', 'Владение', 'modelDate' ], axis=1, inplace=True,)\n",
    "\n",
    " \n",
    "train['productionDate']=2021-train['productionDate']\n",
    "\n",
    "train.loc[train['Владельцы'].isna()==True, 'Владельцы'] = '3 или более'\n",
    "\n",
    "\n",
    "#mileagePerYear - сделаем новый признак - пробег в год \n",
    "train['mileagePerYear']=train['mileage']/train['productionDate']"
   ]
  },
  {
   "cell_type": "code",
   "execution_count": null,
   "metadata": {
    "execution": {
     "iopub.execute_input": "2020-12-01T23:03:44.571609Z",
     "iopub.status.busy": "2020-12-01T23:03:44.568853Z",
     "iopub.status.idle": "2020-12-01T23:03:44.577962Z",
     "shell.execute_reply": "2020-12-01T23:03:44.578471Z"
    },
    "papermill": {
     "duration": 0.113252,
     "end_time": "2020-12-01T23:03:44.578615",
     "exception": false,
     "start_time": "2020-12-01T23:03:44.465363",
     "status": "completed"
    },
    "tags": []
   },
   "outputs": [],
   "source": [
    "test['engineDisplacement'] = test['engineDisplacement'].str.split().apply(lambda s: s[0]) \n",
    "test.loc[test.engineDisplacement=='undefined', 'engineDisplacement'] = '2.0' \n",
    "test.loc[test.engineDisplacement=='0.7', 'engineDisplacement'] = '1.0' \n",
    "test['engineDisplacement'] = test['engineDisplacement'].apply(lambda s: float(s)) \n",
    "\n",
    "test['enginePower'] = test['enginePower'].str.split().apply(lambda s: s[0]) \n",
    "test['enginePower'] = test['enginePower'].apply(lambda s: float(s))\n",
    "\n",
    "test['modelDate']=2021-test['modelDate'] \n",
    "\n",
    "test.drop(['name', 'vehicleConfiguration','Владение', 'modelDate' ], axis=1, inplace=True,)\n",
    "\n",
    " \n",
    "test['productionDate']=2021-test['productionDate']\n",
    "\n",
    "test.loc[train['Владельцы'].isna()==True, 'Владельцы'] = '3 или более'\n",
    "\n",
    "\n",
    "#mileagePerYear - сделаем новый признак - пробег в год \n",
    "test['mileagePerYear']=test['mileage']/test['productionDate']"
   ]
  },
  {
   "cell_type": "markdown",
   "metadata": {
    "papermill": {
     "duration": 0.084532,
     "end_time": "2020-12-01T23:03:44.738920",
     "exception": false,
     "start_time": "2020-12-01T23:03:44.654388",
     "status": "completed"
    },
    "tags": []
   },
   "source": [
    "# PreProc Tabular Data"
   ]
  },
  {
   "cell_type": "code",
   "execution_count": null,
   "metadata": {
    "execution": {
     "iopub.execute_input": "2020-12-01T23:03:44.902540Z",
     "iopub.status.busy": "2020-12-01T23:03:44.901718Z",
     "iopub.status.idle": "2020-12-01T23:03:44.906203Z",
     "shell.execute_reply": "2020-12-01T23:03:44.905639Z"
    },
    "papermill": {
     "duration": 0.088322,
     "end_time": "2020-12-01T23:03:44.906318",
     "exception": false,
     "start_time": "2020-12-01T23:03:44.817996",
     "status": "completed"
    },
    "tags": []
   },
   "outputs": [],
   "source": [
    "#используем текстовые признаки как категориальные\n",
    "\n",
    "categorical_features = ['bodyType', 'brand', 'color', 'Руль', 'fuelType', 'model_info', 'vehicleTransmission', 'Владельцы', 'ПТС', 'Привод']\n",
    "\n",
    "#используем числовые признаки \n",
    "\n",
    "numerical_features = ['mileage', 'productionDate','engineDisplacement', 'enginePower', 'numberOfDoors','mileagePerYear']"
   ]
  },
  {
   "cell_type": "code",
   "execution_count": null,
   "metadata": {
    "execution": {
     "iopub.execute_input": "2020-12-01T23:03:45.079753Z",
     "iopub.status.busy": "2020-12-01T23:03:45.078781Z",
     "iopub.status.idle": "2020-12-01T23:03:45.094946Z",
     "shell.execute_reply": "2020-12-01T23:03:45.094457Z"
    },
    "papermill": {
     "duration": 0.105849,
     "end_time": "2020-12-01T23:03:45.095049",
     "exception": false,
     "start_time": "2020-12-01T23:03:44.989200",
     "status": "completed"
    },
    "tags": []
   },
   "outputs": [],
   "source": [
    "# ВАЖНО! дря корректной обработки признаков объединяем трейн и тест в один датасет\n",
    "train['sample'] = 1 # помечаем где у нас трейн\n",
    "test['sample'] = 0 # помечаем где у нас тест\n",
    "test['price'] = 0 # в тесте у нас нет значения price, мы его должны предсказать, поэтому пока просто заполняем нулями\n",
    "\n",
    "data = test.append(train, sort=False).reset_index(drop=True) # объединяем\n",
    "print(train.shape, test.shape, data.shape)"
   ]
  },
  {
   "cell_type": "code",
   "execution_count": null,
   "metadata": {
    "execution": {
     "iopub.execute_input": "2020-12-01T23:03:45.256920Z",
     "iopub.status.busy": "2020-12-01T23:03:45.256160Z",
     "iopub.status.idle": "2020-12-01T23:03:45.259974Z",
     "shell.execute_reply": "2020-12-01T23:03:45.259466Z"
    },
    "papermill": {
     "duration": 0.089465,
     "end_time": "2020-12-01T23:03:45.260083",
     "exception": false,
     "start_time": "2020-12-01T23:03:45.170618",
     "status": "completed"
    },
    "tags": []
   },
   "outputs": [],
   "source": [
    "def preproc_data(df_input):\n",
    "    '''includes several functions to pre-process the predictor data.'''\n",
    "    \n",
    "    df_output = df_input.copy()\n",
    "    \n",
    "    df_output.drop(['description', 'sell_id'], axis = 1, inplace=True)\n",
    "    \n",
    "    # Нормализация данных\n",
    "    scaler = MinMaxScaler()\n",
    "    for column in numerical_features:\n",
    "        df_output[column] = scaler.fit_transform(df_output[[column]])[:,0]\n",
    "    \n",
    "    # Label Encoding\n",
    "    for column in categorical_features:\n",
    "        df_output[column] = df_output[column].astype('category').cat.codes\n",
    "        \n",
    "    # One-Hot Encoding: в pandas есть готовая функция - get_dummies.\n",
    "    df_output = pd.get_dummies(df_output, columns=categorical_features, dummy_na=False)\n",
    "    \n",
    "    return df_output"
   ]
  },
  {
   "cell_type": "code",
   "execution_count": null,
   "metadata": {
    "execution": {
     "iopub.execute_input": "2020-12-01T23:03:45.419560Z",
     "iopub.status.busy": "2020-12-01T23:03:45.418616Z",
     "iopub.status.idle": "2020-12-01T23:03:45.518026Z",
     "shell.execute_reply": "2020-12-01T23:03:45.519152Z"
    },
    "papermill": {
     "duration": 0.181924,
     "end_time": "2020-12-01T23:03:45.519294",
     "exception": false,
     "start_time": "2020-12-01T23:03:45.337370",
     "status": "completed"
    },
    "tags": []
   },
   "outputs": [],
   "source": [
    "# Запускаем и проверяем, что получилось\n",
    "df_preproc = preproc_data(data)\n",
    "df_preproc.sample(10)"
   ]
  },
  {
   "cell_type": "code",
   "execution_count": null,
   "metadata": {
    "execution": {
     "iopub.execute_input": "2020-12-01T23:03:45.718849Z",
     "iopub.status.busy": "2020-12-01T23:03:45.717020Z",
     "iopub.status.idle": "2020-12-01T23:03:45.722189Z",
     "shell.execute_reply": "2020-12-01T23:03:45.721076Z"
    },
    "papermill": {
     "duration": 0.112104,
     "end_time": "2020-12-01T23:03:45.722398",
     "exception": false,
     "start_time": "2020-12-01T23:03:45.610294",
     "status": "completed"
    },
    "tags": []
   },
   "outputs": [],
   "source": [
    "df_preproc.info()"
   ]
  },
  {
   "cell_type": "markdown",
   "metadata": {
    "papermill": {
     "duration": 0.077116,
     "end_time": "2020-12-01T23:03:45.889103",
     "exception": false,
     "start_time": "2020-12-01T23:03:45.811987",
     "status": "completed"
    },
    "tags": []
   },
   "source": [
    "## Split data"
   ]
  },
  {
   "cell_type": "code",
   "execution_count": null,
   "metadata": {
    "execution": {
     "iopub.execute_input": "2020-12-01T23:03:46.062104Z",
     "iopub.status.busy": "2020-12-01T23:03:46.061319Z",
     "iopub.status.idle": "2020-12-01T23:03:46.080576Z",
     "shell.execute_reply": "2020-12-01T23:03:46.079980Z"
    },
    "papermill": {
     "duration": 0.113032,
     "end_time": "2020-12-01T23:03:46.080676",
     "exception": false,
     "start_time": "2020-12-01T23:03:45.967644",
     "status": "completed"
    },
    "tags": []
   },
   "outputs": [],
   "source": [
    "# Теперь выделим тестовую часть\n",
    "train_data = df_preproc.query('sample == 1').drop(['sample'], axis=1)\n",
    "test_data = df_preproc.query('sample == 0').drop(['sample'], axis=1)\n",
    "\n",
    "y = train_data.price.values     # наш таргет\n",
    "X = train_data.drop(['price'], axis=1)\n",
    "X_sub = test_data.drop(['price'], axis=1)"
   ]
  },
  {
   "cell_type": "code",
   "execution_count": null,
   "metadata": {
    "execution": {
     "iopub.execute_input": "2020-12-01T23:03:46.291606Z",
     "iopub.status.busy": "2020-12-01T23:03:46.285060Z",
     "iopub.status.idle": "2020-12-01T23:03:46.294992Z",
     "shell.execute_reply": "2020-12-01T23:03:46.295857Z"
    },
    "papermill": {
     "duration": 0.137352,
     "end_time": "2020-12-01T23:03:46.296053",
     "exception": false,
     "start_time": "2020-12-01T23:03:46.158701",
     "status": "completed"
    },
    "tags": []
   },
   "outputs": [],
   "source": [
    "test_data.info()"
   ]
  },
  {
   "cell_type": "markdown",
   "metadata": {
    "papermill": {
     "duration": 0.084332,
     "end_time": "2020-12-01T23:03:46.469956",
     "exception": false,
     "start_time": "2020-12-01T23:03:46.385624",
     "status": "completed"
    },
    "tags": []
   },
   "source": [
    "# Model 2: CatBoostRegressor"
   ]
  },
  {
   "cell_type": "code",
   "execution_count": null,
   "metadata": {
    "execution": {
     "iopub.execute_input": "2020-12-01T23:03:46.634281Z",
     "iopub.status.busy": "2020-12-01T23:03:46.633421Z",
     "iopub.status.idle": "2020-12-01T23:03:46.640602Z",
     "shell.execute_reply": "2020-12-01T23:03:46.639982Z"
    },
    "papermill": {
     "duration": 0.091703,
     "end_time": "2020-12-01T23:03:46.640711",
     "exception": false,
     "start_time": "2020-12-01T23:03:46.549008",
     "status": "completed"
    },
    "tags": []
   },
   "outputs": [],
   "source": [
    "X_train, X_test, y_train, y_test = train_test_split(X, y, test_size=0.15, shuffle=True, random_state=RANDOM_SEED)"
   ]
  },
  {
   "cell_type": "code",
   "execution_count": null,
   "metadata": {
    "_kg_hide-output": true,
    "execution": {
     "iopub.execute_input": "2020-12-01T23:03:46.826859Z",
     "iopub.status.busy": "2020-12-01T23:03:46.826030Z",
     "iopub.status.idle": "2020-12-01T23:04:09.671504Z",
     "shell.execute_reply": "2020-12-01T23:04:09.672534Z"
    },
    "papermill": {
     "duration": 22.952364,
     "end_time": "2020-12-01T23:04:09.672707",
     "exception": false,
     "start_time": "2020-12-01T23:03:46.720343",
     "status": "completed"
    },
    "tags": []
   },
   "outputs": [],
   "source": [
    "model = CatBoostRegressor(iterations = 6000,\n",
    "                          #depth=10,\n",
    "                          #learning_rate = 0.5,\n",
    "                          random_seed = RANDOM_SEED,\n",
    "                          eval_metric='MAPE',\n",
    "                          custom_metric=['RMSE', 'MAE'],\n",
    "                          od_wait=500,\n",
    "                          #task_type='GPU',\n",
    "                         )\n",
    "model.fit(X_train, y_train,\n",
    "         eval_set=(X_test, y_test),\n",
    "         verbose_eval=100,\n",
    "         use_best_model=True,\n",
    "         #plot=True\n",
    "         )"
   ]
  },
  {
   "cell_type": "code",
   "execution_count": null,
   "metadata": {
    "execution": {
     "iopub.execute_input": "2020-12-01T23:04:09.880368Z",
     "iopub.status.busy": "2020-12-01T23:04:09.879711Z",
     "iopub.status.idle": "2020-12-01T23:04:09.895280Z",
     "shell.execute_reply": "2020-12-01T23:04:09.895811Z"
    },
    "papermill": {
     "duration": 0.123388,
     "end_time": "2020-12-01T23:04:09.895954",
     "exception": false,
     "start_time": "2020-12-01T23:04:09.772566",
     "status": "completed"
    },
    "tags": []
   },
   "outputs": [],
   "source": [
    "test_predict_catboost = model.predict(X_test)\n",
    "print(f\"TEST mape: {(mape(y_test, test_predict_catboost))*100:0.2f}%\")"
   ]
  },
  {
   "cell_type": "markdown",
   "metadata": {
    "papermill": {
     "duration": 0.195981,
     "end_time": "2020-12-01T23:04:10.230410",
     "exception": false,
     "start_time": "2020-12-01T23:04:10.034429",
     "status": "completed"
    },
    "tags": []
   },
   "source": [
    "### Submission"
   ]
  },
  {
   "cell_type": "code",
   "execution_count": null,
   "metadata": {
    "execution": {
     "iopub.execute_input": "2020-12-01T23:04:10.538521Z",
     "iopub.status.busy": "2020-12-01T23:04:10.537617Z",
     "iopub.status.idle": "2020-12-01T23:04:10.933451Z",
     "shell.execute_reply": "2020-12-01T23:04:10.932485Z"
    },
    "papermill": {
     "duration": 0.549983,
     "end_time": "2020-12-01T23:04:10.933572",
     "exception": false,
     "start_time": "2020-12-01T23:04:10.383589",
     "status": "completed"
    },
    "tags": []
   },
   "outputs": [],
   "source": [
    "sub_predict_catboost = model.predict(X_sub)\n",
    "sample_submission['price'] = sub_predict_catboost\n",
    "sample_submission.to_csv('catboost_submission.csv', index=False)"
   ]
  },
  {
   "cell_type": "markdown",
   "metadata": {
    "papermill": {
     "duration": 0.150261,
     "end_time": "2020-12-01T23:04:11.233157",
     "exception": false,
     "start_time": "2020-12-01T23:04:11.082896",
     "status": "completed"
    },
    "tags": []
   },
   "source": [
    "# Model 3: Tabular NN"
   ]
  },
  {
   "cell_type": "markdown",
   "metadata": {
    "papermill": {
     "duration": 0.102031,
     "end_time": "2020-12-01T23:04:11.456014",
     "exception": false,
     "start_time": "2020-12-01T23:04:11.353983",
     "status": "completed"
    },
    "tags": []
   },
   "source": [
    "Построим обычную сеть:"
   ]
  },
  {
   "cell_type": "code",
   "execution_count": null,
   "metadata": {
    "execution": {
     "iopub.execute_input": "2020-12-01T23:04:11.668353Z",
     "iopub.status.busy": "2020-12-01T23:04:11.666970Z",
     "iopub.status.idle": "2020-12-01T23:04:11.694625Z",
     "shell.execute_reply": "2020-12-01T23:04:11.695723Z"
    },
    "papermill": {
     "duration": 0.137298,
     "end_time": "2020-12-01T23:04:11.695878",
     "exception": false,
     "start_time": "2020-12-01T23:04:11.558580",
     "status": "completed"
    },
    "tags": []
   },
   "outputs": [],
   "source": [
    "X_train.head(5)"
   ]
  },
  {
   "cell_type": "markdown",
   "metadata": {
    "papermill": {
     "duration": 0.102949,
     "end_time": "2020-12-01T23:04:11.918470",
     "exception": false,
     "start_time": "2020-12-01T23:04:11.815521",
     "status": "completed"
    },
    "tags": []
   },
   "source": [
    "## Simple Dense NN"
   ]
  },
  {
   "cell_type": "code",
   "execution_count": null,
   "metadata": {
    "execution": {
     "iopub.execute_input": "2020-12-01T23:04:12.136471Z",
     "iopub.status.busy": "2020-12-01T23:04:12.135586Z",
     "iopub.status.idle": "2020-12-01T23:04:15.143469Z",
     "shell.execute_reply": "2020-12-01T23:04:15.142828Z"
    },
    "papermill": {
     "duration": 3.120322,
     "end_time": "2020-12-01T23:04:15.143610",
     "exception": false,
     "start_time": "2020-12-01T23:04:12.023288",
     "status": "completed"
    },
    "tags": []
   },
   "outputs": [],
   "source": [
    "model = Sequential()\n",
    "model.add(L.Dense(512, input_dim=X_train.shape[1], activation=\"relu\"))\n",
    "model.add(L.Dropout(0.5))\n",
    "model.add(L.Dense(256, activation=\"relu\"))\n",
    "model.add(L.Dropout(0.5))\n",
    "model.add(L.Dense(1, activation=\"linear\"))"
   ]
  },
  {
   "cell_type": "code",
   "execution_count": null,
   "metadata": {
    "execution": {
     "iopub.execute_input": "2020-12-01T23:04:15.369495Z",
     "iopub.status.busy": "2020-12-01T23:04:15.364319Z",
     "iopub.status.idle": "2020-12-01T23:04:15.372860Z",
     "shell.execute_reply": "2020-12-01T23:04:15.373680Z"
    },
    "papermill": {
     "duration": 0.122151,
     "end_time": "2020-12-01T23:04:15.373908",
     "exception": false,
     "start_time": "2020-12-01T23:04:15.251757",
     "status": "completed"
    },
    "tags": []
   },
   "outputs": [],
   "source": [
    "model.summary()"
   ]
  },
  {
   "cell_type": "code",
   "execution_count": null,
   "metadata": {
    "execution": {
     "iopub.execute_input": "2020-12-01T23:04:15.611878Z",
     "iopub.status.busy": "2020-12-01T23:04:15.610868Z",
     "iopub.status.idle": "2020-12-01T23:04:15.618497Z",
     "shell.execute_reply": "2020-12-01T23:04:15.617888Z"
    },
    "papermill": {
     "duration": 0.136243,
     "end_time": "2020-12-01T23:04:15.618616",
     "exception": false,
     "start_time": "2020-12-01T23:04:15.482373",
     "status": "completed"
    },
    "tags": []
   },
   "outputs": [],
   "source": [
    "# Compile model\n",
    "optimizer = tf.keras.optimizers.Adam(0.01)\n",
    "model.compile(loss='MAPE',optimizer=optimizer, metrics=['MAPE'])"
   ]
  },
  {
   "cell_type": "code",
   "execution_count": null,
   "metadata": {
    "execution": {
     "iopub.execute_input": "2020-12-01T23:04:15.849045Z",
     "iopub.status.busy": "2020-12-01T23:04:15.848217Z",
     "iopub.status.idle": "2020-12-01T23:04:15.850867Z",
     "shell.execute_reply": "2020-12-01T23:04:15.851670Z"
    },
    "papermill": {
     "duration": 0.122066,
     "end_time": "2020-12-01T23:04:15.851818",
     "exception": false,
     "start_time": "2020-12-01T23:04:15.729752",
     "status": "completed"
    },
    "tags": []
   },
   "outputs": [],
   "source": [
    "checkpoint = ModelCheckpoint('./best_model.hdf5' , monitor=['val_MAPE'], verbose=0  , mode='min')\n",
    "earlystop = EarlyStopping(monitor='val_MAPE', patience=50, restore_best_weights=True,)\n",
    "callbacks_list = [checkpoint, earlystop]"
   ]
  },
  {
   "cell_type": "markdown",
   "metadata": {
    "papermill": {
     "duration": 0.110307,
     "end_time": "2020-12-01T23:04:16.076194",
     "exception": false,
     "start_time": "2020-12-01T23:04:15.965887",
     "status": "completed"
    },
    "tags": []
   },
   "source": [
    "### Fit"
   ]
  },
  {
   "cell_type": "code",
   "execution_count": null,
   "metadata": {
    "execution": {
     "iopub.execute_input": "2020-12-01T23:04:16.297239Z",
     "iopub.status.busy": "2020-12-01T23:04:16.296535Z",
     "iopub.status.idle": "2020-12-01T23:04:57.603322Z",
     "shell.execute_reply": "2020-12-01T23:04:57.602210Z"
    },
    "papermill": {
     "duration": 41.420703,
     "end_time": "2020-12-01T23:04:57.603464",
     "exception": false,
     "start_time": "2020-12-01T23:04:16.182761",
     "status": "completed"
    },
    "tags": []
   },
   "outputs": [],
   "source": [
    "history = model.fit(X_train, y_train,\n",
    "                    batch_size=512,\n",
    "                    epochs=500, # фактически мы обучаем пока EarlyStopping не остановит обучение\n",
    "                    validation_data=(X_test, y_test),\n",
    "                    callbacks=callbacks_list,\n",
    "                    verbose=0,\n",
    "                   )"
   ]
  },
  {
   "cell_type": "code",
   "execution_count": null,
   "metadata": {
    "execution": {
     "iopub.execute_input": "2020-12-01T23:04:57.842566Z",
     "iopub.status.busy": "2020-12-01T23:04:57.836218Z",
     "iopub.status.idle": "2020-12-01T23:04:57.996120Z",
     "shell.execute_reply": "2020-12-01T23:04:57.996782Z"
    },
    "papermill": {
     "duration": 0.279224,
     "end_time": "2020-12-01T23:04:57.996953",
     "exception": false,
     "start_time": "2020-12-01T23:04:57.717729",
     "status": "completed"
    },
    "tags": []
   },
   "outputs": [],
   "source": [
    "plt.title('Loss')\n",
    "plt.plot(history.history['MAPE'], label='train')\n",
    "plt.plot(history.history['val_MAPE'], label='test')\n",
    "plt.show();"
   ]
  },
  {
   "cell_type": "code",
   "execution_count": null,
   "metadata": {
    "execution": {
     "iopub.execute_input": "2020-12-01T23:04:58.243499Z",
     "iopub.status.busy": "2020-12-01T23:04:58.242290Z",
     "iopub.status.idle": "2020-12-01T23:04:58.272449Z",
     "shell.execute_reply": "2020-12-01T23:04:58.271819Z"
    },
    "papermill": {
     "duration": 0.154529,
     "end_time": "2020-12-01T23:04:58.272567",
     "exception": false,
     "start_time": "2020-12-01T23:04:58.118038",
     "status": "completed"
    },
    "tags": []
   },
   "outputs": [],
   "source": [
    "model.load_weights('./best_model.hdf5')\n",
    "model.save('./nn_1.hdf5')"
   ]
  },
  {
   "cell_type": "code",
   "execution_count": null,
   "metadata": {
    "execution": {
     "iopub.execute_input": "2020-12-01T23:04:58.514861Z",
     "iopub.status.busy": "2020-12-01T23:04:58.514095Z",
     "iopub.status.idle": "2020-12-01T23:04:58.684271Z",
     "shell.execute_reply": "2020-12-01T23:04:58.683598Z"
    },
    "papermill": {
     "duration": 0.29618,
     "end_time": "2020-12-01T23:04:58.684396",
     "exception": false,
     "start_time": "2020-12-01T23:04:58.388216",
     "status": "completed"
    },
    "tags": []
   },
   "outputs": [],
   "source": [
    "test_predict_nn1 = model.predict(X_test)\n",
    "print(f\"TEST mape: {(mape(y_test, test_predict_nn1[:,0]))*100:0.2f}%\")"
   ]
  },
  {
   "cell_type": "code",
   "execution_count": null,
   "metadata": {
    "execution": {
     "iopub.execute_input": "2020-12-01T23:04:58.950630Z",
     "iopub.status.busy": "2020-12-01T23:04:58.949658Z",
     "iopub.status.idle": "2020-12-01T23:04:59.057853Z",
     "shell.execute_reply": "2020-12-01T23:04:59.056854Z"
    },
    "papermill": {
     "duration": 0.243165,
     "end_time": "2020-12-01T23:04:59.057983",
     "exception": false,
     "start_time": "2020-12-01T23:04:58.814818",
     "status": "completed"
    },
    "tags": []
   },
   "outputs": [],
   "source": [
    "sub_predict_nn1 = model.predict(X_sub)\n",
    "sample_submission['price'] = sub_predict_nn1[:,0]\n",
    "sample_submission.to_csv('nn1_submission.csv', index=False)"
   ]
  },
  {
   "cell_type": "markdown",
   "metadata": {
    "papermill": {
     "duration": 0.123331,
     "end_time": "2020-12-01T23:04:59.298252",
     "exception": false,
     "start_time": "2020-12-01T23:04:59.174921",
     "status": "completed"
    },
    "tags": []
   },
   "source": [
    "Рекомендации для улучшения Model 3:    \n",
    "* В нейросеть желательно подавать данные с распределением, близким к нормальному, поэтому от некоторых числовых признаков имеет смысл взять логарифм перед нормализацией. Пример:\n",
    "`modelDateNorm = np.log(2020 - data['modelDate'])`\n",
    "Статья по теме: https://habr.com/ru/company/ods/blog/325422\n",
    "\n",
    "* Извлечение числовых значений из текста:\n",
    "Парсинг признаков 'engineDisplacement', 'enginePower', 'Владение' для извлечения числовых значений.\n",
    "\n",
    "* Cокращение размерности категориальных признаков\n",
    "Признак name 'name' содержит данные, которые уже есть в других столбцах ('enginePower', 'engineDisplacement', 'vehicleTransmission'), поэтому эти данные можно удалить. Затем следует еще сильнее сократить размерность, например, выделив наличие xDrive в качестве отдельного признака."
   ]
  },
  {
   "cell_type": "markdown",
   "metadata": {
    "papermill": {
     "duration": 0.115872,
     "end_time": "2020-12-01T23:04:59.532957",
     "exception": false,
     "start_time": "2020-12-01T23:04:59.417085",
     "status": "completed"
    },
    "tags": []
   },
   "source": [
    "# Model 4: NLP + Multiple Inputs"
   ]
  },
  {
   "cell_type": "code",
   "execution_count": null,
   "metadata": {
    "execution": {
     "iopub.execute_input": "2020-12-01T23:04:59.770827Z",
     "iopub.status.busy": "2020-12-01T23:04:59.770008Z",
     "iopub.status.idle": "2020-12-01T23:04:59.776883Z",
     "shell.execute_reply": "2020-12-01T23:04:59.776383Z"
    },
    "papermill": {
     "duration": 0.12755,
     "end_time": "2020-12-01T23:04:59.776988",
     "exception": false,
     "start_time": "2020-12-01T23:04:59.649438",
     "status": "completed"
    },
    "tags": []
   },
   "outputs": [],
   "source": [
    "data.description"
   ]
  },
  {
   "cell_type": "code",
   "execution_count": null,
   "metadata": {
    "execution": {
     "iopub.execute_input": "2020-12-01T23:05:00.017077Z",
     "iopub.status.busy": "2020-12-01T23:05:00.016382Z",
     "iopub.status.idle": "2020-12-01T23:05:00.020761Z",
     "shell.execute_reply": "2020-12-01T23:05:00.021335Z"
    },
    "papermill": {
     "duration": 0.12601,
     "end_time": "2020-12-01T23:05:00.021485",
     "exception": false,
     "start_time": "2020-12-01T23:04:59.895475",
     "status": "completed"
    },
    "tags": []
   },
   "outputs": [],
   "source": [
    "# TOKENIZER\n",
    "# The maximum number of words to be used. (most frequent)\n",
    "MAX_WORDS = 100000\n",
    "# Max number of words in each complaint.\n",
    "MAX_SEQUENCE_LENGTH = 256"
   ]
  },
  {
   "cell_type": "code",
   "execution_count": null,
   "metadata": {
    "execution": {
     "iopub.execute_input": "2020-12-01T23:05:00.258698Z",
     "iopub.status.busy": "2020-12-01T23:05:00.256081Z",
     "iopub.status.idle": "2020-12-01T23:05:00.263041Z",
     "shell.execute_reply": "2020-12-01T23:05:00.262228Z"
    },
    "papermill": {
     "duration": 0.127223,
     "end_time": "2020-12-01T23:05:00.263188",
     "exception": false,
     "start_time": "2020-12-01T23:05:00.135965",
     "status": "completed"
    },
    "tags": []
   },
   "outputs": [],
   "source": [
    "# split данных\n",
    "text_train = data.description.iloc[X_train.index]\n",
    "text_test = data.description.iloc[X_test.index]\n",
    "text_sub = data.description.iloc[X_sub.index]"
   ]
  },
  {
   "cell_type": "markdown",
   "metadata": {
    "papermill": {
     "duration": 0.11517,
     "end_time": "2020-12-01T23:05:00.493992",
     "exception": false,
     "start_time": "2020-12-01T23:05:00.378822",
     "status": "completed"
    },
    "tags": []
   },
   "source": [
    "### Tokenizer"
   ]
  },
  {
   "cell_type": "code",
   "execution_count": null,
   "metadata": {
    "execution": {
     "iopub.execute_input": "2020-12-01T23:05:00.824841Z",
     "iopub.status.busy": "2020-12-01T23:05:00.809064Z",
     "iopub.status.idle": "2020-12-01T23:05:02.586165Z",
     "shell.execute_reply": "2020-12-01T23:05:02.585622Z"
    },
    "papermill": {
     "duration": 1.910968,
     "end_time": "2020-12-01T23:05:02.586272",
     "exception": false,
     "start_time": "2020-12-01T23:05:00.675304",
     "status": "completed"
    },
    "tags": []
   },
   "outputs": [],
   "source": [
    "%%time\n",
    "tokenize = Tokenizer(num_words=MAX_WORDS)\n",
    "tokenize.fit_on_texts(data.description)"
   ]
  },
  {
   "cell_type": "code",
   "execution_count": null,
   "metadata": {
    "_kg_hide-output": true,
    "execution": {
     "iopub.execute_input": "2020-12-01T23:05:02.828280Z",
     "iopub.status.busy": "2020-12-01T23:05:02.818027Z",
     "iopub.status.idle": "2020-12-01T23:05:02.848612Z",
     "shell.execute_reply": "2020-12-01T23:05:02.849111Z"
    },
    "papermill": {
     "duration": 0.155477,
     "end_time": "2020-12-01T23:05:02.849254",
     "exception": false,
     "start_time": "2020-12-01T23:05:02.693777",
     "status": "completed"
    },
    "tags": []
   },
   "outputs": [],
   "source": [
    "tokenize.word_index"
   ]
  },
  {
   "cell_type": "code",
   "execution_count": null,
   "metadata": {
    "execution": {
     "iopub.execute_input": "2020-12-01T23:05:03.144903Z",
     "iopub.status.busy": "2020-12-01T23:05:03.133867Z",
     "iopub.status.idle": "2020-12-01T23:05:04.872454Z",
     "shell.execute_reply": "2020-12-01T23:05:04.871781Z"
    },
    "papermill": {
     "duration": 1.915104,
     "end_time": "2020-12-01T23:05:04.872565",
     "exception": false,
     "start_time": "2020-12-01T23:05:02.957461",
     "status": "completed"
    },
    "tags": []
   },
   "outputs": [],
   "source": [
    "%%time\n",
    "text_train_sequences = sequence.pad_sequences(tokenize.texts_to_sequences(text_train), maxlen=MAX_SEQUENCE_LENGTH)\n",
    "text_test_sequences = sequence.pad_sequences(tokenize.texts_to_sequences(text_test), maxlen=MAX_SEQUENCE_LENGTH)\n",
    "text_sub_sequences = sequence.pad_sequences(tokenize.texts_to_sequences(text_sub), maxlen=MAX_SEQUENCE_LENGTH)\n",
    "\n",
    "print(text_train_sequences.shape, text_test_sequences.shape, text_sub_sequences.shape, )"
   ]
  },
  {
   "cell_type": "code",
   "execution_count": null,
   "metadata": {
    "execution": {
     "iopub.execute_input": "2020-12-01T23:05:05.178375Z",
     "iopub.status.busy": "2020-12-01T23:05:05.176695Z",
     "iopub.status.idle": "2020-12-01T23:05:05.193468Z",
     "shell.execute_reply": "2020-12-01T23:05:05.179220Z"
    },
    "papermill": {
     "duration": 0.204231,
     "end_time": "2020-12-01T23:05:05.193648",
     "exception": false,
     "start_time": "2020-12-01T23:05:04.989417",
     "status": "completed"
    },
    "tags": []
   },
   "outputs": [],
   "source": [
    "# вот так теперь выглядит наш текст\n",
    "print(text_train.iloc[6])\n",
    "print(text_train_sequences[6])"
   ]
  },
  {
   "cell_type": "markdown",
   "metadata": {
    "papermill": {
     "duration": 0.161778,
     "end_time": "2020-12-01T23:05:05.525123",
     "exception": false,
     "start_time": "2020-12-01T23:05:05.363345",
     "status": "completed"
    },
    "tags": []
   },
   "source": [
    "### RNN NLP"
   ]
  },
  {
   "cell_type": "code",
   "execution_count": null,
   "metadata": {
    "execution": {
     "iopub.execute_input": "2020-12-01T23:05:05.836821Z",
     "iopub.status.busy": "2020-12-01T23:05:05.835799Z",
     "iopub.status.idle": "2020-12-01T23:05:06.479329Z",
     "shell.execute_reply": "2020-12-01T23:05:06.478764Z"
    },
    "papermill": {
     "duration": 0.77234,
     "end_time": "2020-12-01T23:05:06.479456",
     "exception": false,
     "start_time": "2020-12-01T23:05:05.707116",
     "status": "completed"
    },
    "tags": []
   },
   "outputs": [],
   "source": [
    "model_nlp = Sequential()\n",
    "model_nlp.add(L.Input(shape=MAX_SEQUENCE_LENGTH, name=\"seq_description\"))\n",
    "model_nlp.add(L.Embedding(len(tokenize.word_index)+1, MAX_SEQUENCE_LENGTH,))\n",
    "model_nlp.add(L.LSTM(256, return_sequences=True))\n",
    "model_nlp.add(L.Dropout(0.5))\n",
    "model_nlp.add(L.LSTM(128,))\n",
    "model_nlp.add(L.Dropout(0.25))\n",
    "model_nlp.add(L.Dense(64, activation=\"relu\"))\n",
    "model_nlp.add(L.Dropout(0.25))"
   ]
  },
  {
   "cell_type": "markdown",
   "metadata": {
    "papermill": {
     "duration": 0.112616,
     "end_time": "2020-12-01T23:05:06.703176",
     "exception": false,
     "start_time": "2020-12-01T23:05:06.590560",
     "status": "completed"
    },
    "tags": []
   },
   "source": [
    "### MLP"
   ]
  },
  {
   "cell_type": "code",
   "execution_count": null,
   "metadata": {
    "execution": {
     "iopub.execute_input": "2020-12-01T23:05:06.934996Z",
     "iopub.status.busy": "2020-12-01T23:05:06.934075Z",
     "iopub.status.idle": "2020-12-01T23:05:06.975436Z",
     "shell.execute_reply": "2020-12-01T23:05:06.974428Z"
    },
    "papermill": {
     "duration": 0.161989,
     "end_time": "2020-12-01T23:05:06.975541",
     "exception": false,
     "start_time": "2020-12-01T23:05:06.813552",
     "status": "completed"
    },
    "tags": []
   },
   "outputs": [],
   "source": [
    "model_mlp = Sequential()\n",
    "model_mlp.add(L.Dense(512, input_dim=X_train.shape[1], activation=\"relu\"))\n",
    "model_mlp.add(L.Dropout(0.5))\n",
    "model_mlp.add(L.Dense(256, activation=\"relu\"))\n",
    "model_mlp.add(L.Dropout(0.5))"
   ]
  },
  {
   "cell_type": "markdown",
   "metadata": {
    "papermill": {
     "duration": 0.110605,
     "end_time": "2020-12-01T23:05:07.197351",
     "exception": false,
     "start_time": "2020-12-01T23:05:07.086746",
     "status": "completed"
    },
    "tags": []
   },
   "source": [
    "### Multiple Inputs NN"
   ]
  },
  {
   "cell_type": "code",
   "execution_count": null,
   "metadata": {
    "execution": {
     "iopub.execute_input": "2020-12-01T23:05:07.429090Z",
     "iopub.status.busy": "2020-12-01T23:05:07.426605Z",
     "iopub.status.idle": "2020-12-01T23:05:07.451950Z",
     "shell.execute_reply": "2020-12-01T23:05:07.451007Z"
    },
    "papermill": {
     "duration": 0.14423,
     "end_time": "2020-12-01T23:05:07.452099",
     "exception": false,
     "start_time": "2020-12-01T23:05:07.307869",
     "status": "completed"
    },
    "tags": []
   },
   "outputs": [],
   "source": [
    "combinedInput = L.concatenate([model_nlp.output, model_mlp.output])\n",
    "# being our regression head\n",
    "head = L.Dense(64, activation=\"relu\")(combinedInput)\n",
    "head = L.Dense(1, activation=\"linear\")(head)\n",
    "\n",
    "model = Model(inputs=[model_nlp.input, model_mlp.input], outputs=head)"
   ]
  },
  {
   "cell_type": "code",
   "execution_count": null,
   "metadata": {
    "_kg_hide-output": true,
    "execution": {
     "iopub.execute_input": "2020-12-01T23:05:07.765001Z",
     "iopub.status.busy": "2020-12-01T23:05:07.764038Z",
     "iopub.status.idle": "2020-12-01T23:05:07.787002Z",
     "shell.execute_reply": "2020-12-01T23:05:07.786106Z"
    },
    "papermill": {
     "duration": 0.217352,
     "end_time": "2020-12-01T23:05:07.789293",
     "exception": false,
     "start_time": "2020-12-01T23:05:07.571941",
     "status": "completed"
    },
    "tags": []
   },
   "outputs": [],
   "source": [
    "model.summary()"
   ]
  },
  {
   "cell_type": "markdown",
   "metadata": {
    "papermill": {
     "duration": 0.163183,
     "end_time": "2020-12-01T23:05:08.116540",
     "exception": false,
     "start_time": "2020-12-01T23:05:07.953357",
     "status": "completed"
    },
    "tags": []
   },
   "source": [
    "### Fit"
   ]
  },
  {
   "cell_type": "code",
   "execution_count": null,
   "metadata": {
    "execution": {
     "iopub.execute_input": "2020-12-01T23:05:08.502877Z",
     "iopub.status.busy": "2020-12-01T23:05:08.501929Z",
     "iopub.status.idle": "2020-12-01T23:05:08.511673Z",
     "shell.execute_reply": "2020-12-01T23:05:08.512362Z"
    },
    "papermill": {
     "duration": 0.232674,
     "end_time": "2020-12-01T23:05:08.512538",
     "exception": false,
     "start_time": "2020-12-01T23:05:08.279864",
     "status": "completed"
    },
    "tags": []
   },
   "outputs": [],
   "source": [
    "optimizer = tf.keras.optimizers.Adam(0.01)\n",
    "model.compile(loss='MAPE',optimizer=optimizer, metrics=['MAPE'])"
   ]
  },
  {
   "cell_type": "code",
   "execution_count": null,
   "metadata": {
    "execution": {
     "iopub.execute_input": "2020-12-01T23:05:08.837401Z",
     "iopub.status.busy": "2020-12-01T23:05:08.836675Z",
     "iopub.status.idle": "2020-12-01T23:05:08.841260Z",
     "shell.execute_reply": "2020-12-01T23:05:08.840663Z"
    },
    "papermill": {
     "duration": 0.161726,
     "end_time": "2020-12-01T23:05:08.841370",
     "exception": false,
     "start_time": "2020-12-01T23:05:08.679644",
     "status": "completed"
    },
    "tags": []
   },
   "outputs": [],
   "source": [
    "checkpoint = ModelCheckpoint('./best_model.hdf5', monitor=['val_MAPE'], verbose=0, mode='min')\n",
    "earlystop = EarlyStopping(monitor='val_MAPE', patience=10, restore_best_weights=True,)\n",
    "callbacks_list = [checkpoint, earlystop]"
   ]
  },
  {
   "cell_type": "code",
   "execution_count": null,
   "metadata": {
    "_kg_hide-output": true,
    "execution": {
     "iopub.execute_input": "2020-12-01T23:05:09.092394Z",
     "iopub.status.busy": "2020-12-01T23:05:09.091225Z",
     "iopub.status.idle": "2020-12-01T23:16:17.598678Z",
     "shell.execute_reply": "2020-12-01T23:16:17.598048Z"
    },
    "papermill": {
     "duration": 668.636134,
     "end_time": "2020-12-01T23:16:17.598793",
     "exception": false,
     "start_time": "2020-12-01T23:05:08.962659",
     "status": "completed"
    },
    "tags": []
   },
   "outputs": [],
   "source": [
    "history = model.fit([text_train_sequences, X_train], y_train,\n",
    "                    batch_size=512,\n",
    "                    epochs=500, # фактически мы обучаем пока EarlyStopping не остановит обучение\n",
    "                    validation_data=([text_test_sequences, X_test], y_test),\n",
    "                    callbacks=callbacks_list\n",
    "                   )"
   ]
  },
  {
   "cell_type": "code",
   "execution_count": null,
   "metadata": {
    "execution": {
     "iopub.execute_input": "2020-12-01T23:16:19.108734Z",
     "iopub.status.busy": "2020-12-01T23:16:19.107743Z",
     "iopub.status.idle": "2020-12-01T23:16:19.251609Z",
     "shell.execute_reply": "2020-12-01T23:16:19.252184Z"
    },
    "papermill": {
     "duration": 0.895582,
     "end_time": "2020-12-01T23:16:19.252363",
     "exception": false,
     "start_time": "2020-12-01T23:16:18.356781",
     "status": "completed"
    },
    "tags": []
   },
   "outputs": [],
   "source": [
    "plt.title('Loss')\n",
    "plt.plot(history.history['MAPE'], label='train')\n",
    "plt.plot(history.history['val_MAPE'], label='test')\n",
    "plt.show();"
   ]
  },
  {
   "cell_type": "code",
   "execution_count": null,
   "metadata": {
    "execution": {
     "iopub.execute_input": "2020-12-01T23:16:20.842957Z",
     "iopub.status.busy": "2020-12-01T23:16:20.762225Z",
     "iopub.status.idle": "2020-12-01T23:16:21.298516Z",
     "shell.execute_reply": "2020-12-01T23:16:21.297928Z"
    },
    "papermill": {
     "duration": 1.303211,
     "end_time": "2020-12-01T23:16:21.298641",
     "exception": false,
     "start_time": "2020-12-01T23:16:19.995430",
     "status": "completed"
    },
    "tags": []
   },
   "outputs": [],
   "source": [
    "model.load_weights('./best_model.hdf5')\n",
    "model.save('./nn_mlp_nlp.hdf5')"
   ]
  },
  {
   "cell_type": "code",
   "execution_count": null,
   "metadata": {
    "execution": {
     "iopub.execute_input": "2020-12-01T23:16:23.154640Z",
     "iopub.status.busy": "2020-12-01T23:16:23.153718Z",
     "iopub.status.idle": "2020-12-01T23:16:24.317405Z",
     "shell.execute_reply": "2020-12-01T23:16:24.318299Z"
    },
    "papermill": {
     "duration": 2.191094,
     "end_time": "2020-12-01T23:16:24.318533",
     "exception": false,
     "start_time": "2020-12-01T23:16:22.127439",
     "status": "completed"
    },
    "tags": []
   },
   "outputs": [],
   "source": [
    "test_predict_nn2 = model.predict([text_test_sequences, X_test])\n",
    "print(f\"TEST mape: {(mape(y_test, test_predict_nn2[:,0]))*100:0.2f}%\")"
   ]
  },
  {
   "cell_type": "code",
   "execution_count": null,
   "metadata": {
    "execution": {
     "iopub.execute_input": "2020-12-01T23:16:26.251387Z",
     "iopub.status.busy": "2020-12-01T23:16:26.250492Z",
     "iopub.status.idle": "2020-12-01T23:16:27.035256Z",
     "shell.execute_reply": "2020-12-01T23:16:27.034689Z"
    },
    "papermill": {
     "duration": 1.719307,
     "end_time": "2020-12-01T23:16:27.035379",
     "exception": false,
     "start_time": "2020-12-01T23:16:25.316072",
     "status": "completed"
    },
    "tags": []
   },
   "outputs": [],
   "source": [
    "sub_predict_nn2 = model.predict([text_sub_sequences, X_sub])\n",
    "sample_submission['price'] = sub_predict_nn2[:,0]\n",
    "sample_submission.to_csv('nn2_submission.csv', index=False)"
   ]
  },
  {
   "cell_type": "markdown",
   "metadata": {
    "papermill": {
     "duration": 0.800625,
     "end_time": "2020-12-01T23:16:29.221287",
     "exception": false,
     "start_time": "2020-12-01T23:16:28.420662",
     "status": "completed"
    },
    "tags": []
   },
   "source": [
    "Идеи для улучшения NLP части:\n",
    "* Выделить из описаний часто встречающиеся блоки текста, заменив их на кодовые слова или удалив\n",
    "* Сделать предобработку текста, например, сделать лемматизацию - алгоритм ставящий все слова в форму по умолчанию (глаголы в инфинитив и т. д.), чтобы токенайзер не преобразовывал разные формы слова в разные числа\n",
    "Статья по теме: https://habr.com/ru/company/Voximplant/blog/446738/\n",
    "* Поработать над алгоритмами очистки и аугментации текста"
   ]
  },
  {
   "cell_type": "markdown",
   "metadata": {
    "papermill": {
     "duration": 0.740673,
     "end_time": "2020-12-01T23:16:30.699793",
     "exception": false,
     "start_time": "2020-12-01T23:16:29.959120",
     "status": "completed"
    },
    "tags": []
   },
   "source": [
    "# Model 5: Добавляем картинки"
   ]
  },
  {
   "cell_type": "markdown",
   "metadata": {
    "papermill": {
     "duration": 0.741332,
     "end_time": "2020-12-01T23:16:32.193934",
     "exception": false,
     "start_time": "2020-12-01T23:16:31.452602",
     "status": "completed"
    },
    "tags": []
   },
   "source": [
    "### Data"
   ]
  },
  {
   "cell_type": "code",
   "execution_count": null,
   "metadata": {
    "execution": {
     "iopub.execute_input": "2020-12-01T23:16:33.750762Z",
     "iopub.status.busy": "2020-12-01T23:16:33.749711Z",
     "iopub.status.idle": "2020-12-01T23:16:34.333277Z",
     "shell.execute_reply": "2020-12-01T23:16:34.333751Z"
    },
    "papermill": {
     "duration": 1.394096,
     "end_time": "2020-12-01T23:16:34.333896",
     "exception": false,
     "start_time": "2020-12-01T23:16:32.939800",
     "status": "completed"
    },
    "tags": []
   },
   "outputs": [],
   "source": [
    "# убедимся, что цены и фото подгрузились верно\n",
    "plt.figure(figsize = (12,8))\n",
    "\n",
    "random_image = train.sample(n = 9)\n",
    "random_image_paths = random_image['sell_id'].values\n",
    "random_image_cat = random_image['price'].values\n",
    "\n",
    "for index, path in enumerate(random_image_paths):\n",
    "    im = PIL.Image.open(DATA_DIR+'img/img/' + str(path) + '.jpg')\n",
    "    plt.subplot(3, 3, index + 1)\n",
    "    plt.imshow(im)\n",
    "    plt.title('price: ' + str(random_image_cat[index]))\n",
    "    plt.axis('off')\n",
    "plt.show()"
   ]
  },
  {
   "cell_type": "code",
   "execution_count": null,
   "metadata": {
    "execution": {
     "iopub.execute_input": "2020-12-01T23:16:35.842204Z",
     "iopub.status.busy": "2020-12-01T23:16:35.841416Z",
     "iopub.status.idle": "2020-12-01T23:17:01.203703Z",
     "shell.execute_reply": "2020-12-01T23:17:01.204562Z"
    },
    "papermill": {
     "duration": 26.122929,
     "end_time": "2020-12-01T23:17:01.204766",
     "exception": false,
     "start_time": "2020-12-01T23:16:35.081837",
     "status": "completed"
    },
    "tags": []
   },
   "outputs": [],
   "source": [
    "size = (320, 240)\n",
    "\n",
    "def get_image_array(index):\n",
    "    images_train = []\n",
    "    for index, sell_id in enumerate(data['sell_id'].iloc[index].values):\n",
    "        image = cv2.imread(DATA_DIR + 'img/img/' + str(sell_id) + '.jpg')\n",
    "        assert(image is not None)\n",
    "        image = cv2.resize(image, size)\n",
    "        images_train.append(image)\n",
    "    images_train = np.array(images_train)\n",
    "    print('images shape', images_train.shape, 'dtype', images_train.dtype)\n",
    "    return(images_train)\n",
    "\n",
    "images_train = get_image_array(X_train.index)\n",
    "images_test = get_image_array(X_test.index)\n",
    "images_sub = get_image_array(X_sub.index)"
   ]
  },
  {
   "cell_type": "markdown",
   "metadata": {
    "papermill": {
     "duration": 0.76332,
     "end_time": "2020-12-01T23:17:02.741903",
     "exception": false,
     "start_time": "2020-12-01T23:17:01.978583",
     "status": "completed"
    },
    "tags": []
   },
   "source": [
    "### albumentations"
   ]
  },
  {
   "cell_type": "code",
   "execution_count": null,
   "metadata": {
    "execution": {
     "iopub.execute_input": "2020-12-01T23:17:04.339045Z",
     "iopub.status.busy": "2020-12-01T23:17:04.337987Z",
     "iopub.status.idle": "2020-12-01T23:17:05.265922Z",
     "shell.execute_reply": "2020-12-01T23:17:05.266418Z"
    },
    "papermill": {
     "duration": 1.708969,
     "end_time": "2020-12-01T23:17:05.266555",
     "exception": false,
     "start_time": "2020-12-01T23:17:03.557586",
     "status": "completed"
    },
    "tags": []
   },
   "outputs": [],
   "source": [
    "from albumentations import (\n",
    "    HorizontalFlip, IAAPerspective, ShiftScaleRotate, CLAHE, RandomRotate90,\n",
    "    Transpose, ShiftScaleRotate, Blur, OpticalDistortion, GridDistortion, HueSaturationValue,\n",
    "    IAAAdditiveGaussianNoise, GaussNoise, MotionBlur, MedianBlur, IAAPiecewiseAffine,\n",
    "    IAASharpen, IAAEmboss, RandomBrightnessContrast, Flip, OneOf, Compose\n",
    ")\n",
    "\n",
    "\n",
    "#пример взят из официальной документации: https://albumentations.readthedocs.io/en/latest/examples.html\n",
    "augmentation = Compose([\n",
    "    HorizontalFlip(),\n",
    "    OneOf([\n",
    "        \n",
    "        GaussNoise(),\n",
    "    ], p=0.2),\n",
    "    OneOf([\n",
    "        MotionBlur(p=0.2),\n",
    "        MedianBlur(blur_limit=3, p=0.1),\n",
    "        Blur(blur_limit=3, p=0.1),\n",
    "    ], p=0.2),\n",
    "    ShiftScaleRotate(shift_limit=0.0625, scale_limit=0.2, rotate_limit=15, p=1),\n",
    "    OneOf([\n",
    "        OpticalDistortion(p=0.3),\n",
    "        GridDistortion(p=0.1),\n",
    "    ], p=0.2),\n",
    "    OneOf([\n",
    "        CLAHE(clip_limit=2),\n",
    "        RandomBrightnessContrast(),\n",
    "    ], p=0.3),\n",
    "    HueSaturationValue(p=0.3),\n",
    "], p=1)\n",
    "\n",
    "#пример\n",
    "plt.figure(figsize = (12,8))\n",
    "for i in range(9):\n",
    "    img = augmentation(image = images_train[0])['image']\n",
    "    plt.subplot(3, 3, i + 1)\n",
    "    plt.imshow(img)\n",
    "    plt.axis('off')\n",
    "plt.show()"
   ]
  },
  {
   "cell_type": "markdown",
   "metadata": {
    "papermill": {
     "duration": 0.753782,
     "end_time": "2020-12-01T23:17:06.803378",
     "exception": false,
     "start_time": "2020-12-01T23:17:06.049596",
     "status": "completed"
    },
    "tags": []
   },
   "source": [
    "## tf.data.Dataset\n",
    "Если все изображения мы будем хранить в памяти, то может возникнуть проблема ее нехватки. Не храните все изображения в памяти целиком!\n",
    "\n",
    "Метод .fit() модели keras может принимать либо данные в виде массивов или тензоров, либо разного рода итераторы, из которых наиболее современным и гибким является [tf.data.Dataset](https://www.tensorflow.org/guide/data). Он представляет собой конвейер, то есть мы указываем, откуда берем данные и какую цепочку преобразований с ними выполняем. Далее мы будем работать с tf.data.Dataset.\n",
    "\n",
    "Dataset хранит информацию о конечном или бесконечном наборе кортежей (tuple) с данными и может возвращать эти наборы по очереди. Например, данными могут быть пары (input, target) для обучения нейросети. С данными можно осуществлять преобразования, которые осуществляются по мере необходимости ([lazy evaluation](https://ru.wikipedia.org/wiki/%D0%9B%D0%B5%D0%BD%D0%B8%D0%B2%D1%8B%D0%B5_%D0%B2%D1%8B%D1%87%D0%B8%D1%81%D0%BB%D0%B5%D0%BD%D0%B8%D1%8F)).\n",
    "\n",
    "`tf.data.Dataset.from_tensor_slices(data)` - создает датасет из данных, которые представляют собой либо массив, либо кортеж из массивов. Деление осуществляется по первому индексу каждого массива. Например, если `data = (np.zeros((128, 256, 256)), np.zeros(128))`, то датасет будет содержать 128 элементов, каждый из которых содержит один массив 256x256 и одно число.\n",
    "\n",
    "`dataset2 = dataset1.map(func)` - применение функции к датасету; функция должна принимать столько аргументов, каков размер кортежа в датасете 1 и возвращать столько, сколько нужно иметь в датасете 2. Пусть, например, датасет содержит изображения и метки, а нам нужно создать датасет только из изображений, тогда мы напишем так: `dataset2 = dataset.map(lambda img, label: img)`.\n",
    "\n",
    "`dataset2 = dataset1.batch(8)` - группировка по батчам; если датасет 2 должен вернуть один элемент, то он берет из датасета 1 восемь элементов, склеивает их (нулевой индекс результата - номер элемента) и возвращает.\n",
    "\n",
    "`dataset.__iter__()` - превращение датасета в итератор, из которого можно получать элементы методом `.__next__()`. Итератор, в отличие от самого датасета, хранит позицию текущего элемента. Можно также перебирать датасет циклом for.\n",
    "\n",
    "`dataset2 = dataset1.repeat(X)` - датасет 2 будет повторять датасет 1 X раз.\n",
    "\n",
    "Если нам нужно взять из датасета 1000 элементов и использовать их как тестовые, а остальные как обучающие, то мы напишем так:\n",
    "\n",
    "`test_dataset = dataset.take(1000)\n",
    "train_dataset = dataset.skip(1000)`\n",
    "\n",
    "Датасет по сути неизменен: такие операции, как map, batch, repeat, take, skip никак не затрагивают оригинальный датасет. Если датасет хранит элементы [1, 2, 3], то выполнив 3 раза подряд функцию dataset.take(1) мы получим 3 новых датасета, каждый из которых вернет число 1. Если же мы выполним функцию dataset.skip(1), мы получим датасет, возвращающий числа [2, 3], но исходный датасет все равно будет возвращать [1, 2, 3] каждый раз, когда мы его перебираем.\n",
    "\n",
    "tf.Dataset всегда выполняется в graph-режиме (в противоположность eager-режиму), поэтому либо преобразования (`.map()`) должны содержать только tensorflow-функции, либо мы должны использовать tf.py_function в качестве обертки для функций, вызываемых в `.map()`. Подробнее можно прочитать [здесь](https://www.tensorflow.org/guide/data#applying_arbitrary_python_logic)."
   ]
  },
  {
   "cell_type": "code",
   "execution_count": null,
   "metadata": {
    "execution": {
     "iopub.execute_input": "2020-12-01T23:17:08.349058Z",
     "iopub.status.busy": "2020-12-01T23:17:08.323260Z",
     "iopub.status.idle": "2020-12-01T23:17:09.946386Z",
     "shell.execute_reply": "2020-12-01T23:17:09.945813Z"
    },
    "papermill": {
     "duration": 2.389676,
     "end_time": "2020-12-01T23:17:09.946497",
     "exception": false,
     "start_time": "2020-12-01T23:17:07.556821",
     "status": "completed"
    },
    "tags": []
   },
   "outputs": [],
   "source": [
    "# NLP part\n",
    "tokenize = Tokenizer(num_words=MAX_WORDS)\n",
    "tokenize.fit_on_texts(data.description)"
   ]
  },
  {
   "cell_type": "code",
   "execution_count": null,
   "metadata": {
    "execution": {
     "iopub.execute_input": "2020-12-01T23:17:12.707024Z",
     "iopub.status.busy": "2020-12-01T23:17:12.705647Z",
     "iopub.status.idle": "2020-12-01T23:17:14.803991Z",
     "shell.execute_reply": "2020-12-01T23:17:14.804716Z"
    },
    "papermill": {
     "duration": 4.098722,
     "end_time": "2020-12-01T23:17:14.804922",
     "exception": false,
     "start_time": "2020-12-01T23:17:10.706200",
     "status": "completed"
    },
    "tags": []
   },
   "outputs": [],
   "source": [
    "def process_image(image):\n",
    "    return augmentation(image = image.numpy())['image']\n",
    "\n",
    "def tokenize_(descriptions):\n",
    "    return sequence.pad_sequences(tokenize.texts_to_sequences(descriptions), maxlen = MAX_SEQUENCE_LENGTH)\n",
    "\n",
    "def tokenize_text(text):\n",
    "    return tokenize_([text.numpy().decode('utf-8')])[0]\n",
    "\n",
    "def tf_process_train_dataset_element(image, table_data, text, price):\n",
    "    im_shape = image.shape\n",
    "    [image,] = tf.py_function(process_image, [image], [tf.uint8])\n",
    "    image.set_shape(im_shape)\n",
    "    [text,] = tf.py_function(tokenize_text, [text], [tf.int32])\n",
    "    return (image, table_data, text), price\n",
    "\n",
    "def tf_process_val_dataset_element(image, table_data, text, price):\n",
    "    [text,] = tf.py_function(tokenize_text, [text], [tf.int32])\n",
    "    return (image, table_data, text), price\n",
    "\n",
    "train_dataset = tf.data.Dataset.from_tensor_slices((\n",
    "    images_train, X_train, data.description.iloc[X_train.index], y_train\n",
    "    )).map(tf_process_train_dataset_element)\n",
    "\n",
    "test_dataset = tf.data.Dataset.from_tensor_slices((\n",
    "    images_test, X_test, data.description.iloc[X_test.index], y_test\n",
    "    )).map(tf_process_val_dataset_element)\n",
    "\n",
    "y_sub = np.zeros(len(X_sub))\n",
    "sub_dataset = tf.data.Dataset.from_tensor_slices((\n",
    "    images_sub, X_sub, data.description.iloc[X_sub.index], y_sub\n",
    "    )).map(tf_process_val_dataset_element)\n",
    "\n",
    "#проверяем, что нет ошибок (не будет выброшено исключение):\n",
    "train_dataset.__iter__().__next__();\n",
    "test_dataset.__iter__().__next__();\n",
    "sub_dataset.__iter__().__next__();"
   ]
  },
  {
   "cell_type": "markdown",
   "metadata": {
    "papermill": {
     "duration": 0.765181,
     "end_time": "2020-12-01T23:17:16.371437",
     "exception": false,
     "start_time": "2020-12-01T23:17:15.606256",
     "status": "completed"
    },
    "tags": []
   },
   "source": [
    "### Строим сверточную сеть для анализа изображений без \"головы\""
   ]
  },
  {
   "cell_type": "code",
   "execution_count": null,
   "metadata": {
    "execution": {
     "iopub.execute_input": "2020-12-01T23:17:17.937023Z",
     "iopub.status.busy": "2020-12-01T23:17:17.936168Z",
     "iopub.status.idle": "2020-12-01T23:17:28.735191Z",
     "shell.execute_reply": "2020-12-01T23:17:28.733977Z"
    },
    "papermill": {
     "duration": 11.592767,
     "end_time": "2020-12-01T23:17:28.735323",
     "exception": false,
     "start_time": "2020-12-01T23:17:17.142556",
     "status": "completed"
    },
    "tags": []
   },
   "outputs": [],
   "source": [
    "#нормализация включена в состав модели EfficientNetB6, поэтому на вход она принимает данные типа uint8\n",
    "efficientnet_model = tf.keras.applications.efficientnet.EfficientNetB6(weights = 'imagenet', include_top = False, input_shape = (size[1], size[0], 3))\n",
    "efficientnet_output = L.GlobalAveragePooling2D()(efficientnet_model.output)"
   ]
  },
  {
   "cell_type": "code",
   "execution_count": null,
   "metadata": {
    "execution": {
     "iopub.execute_input": "2020-12-01T23:17:30.751428Z",
     "iopub.status.busy": "2020-12-01T23:17:30.746277Z",
     "iopub.status.idle": "2020-12-01T23:17:30.784701Z",
     "shell.execute_reply": "2020-12-01T23:17:30.784218Z"
    },
    "papermill": {
     "duration": 1.201404,
     "end_time": "2020-12-01T23:17:30.784806",
     "exception": false,
     "start_time": "2020-12-01T23:17:29.583402",
     "status": "completed"
    },
    "tags": []
   },
   "outputs": [],
   "source": [
    "#строим нейросеть для анализа табличных данных\n",
    "tabular_model = Sequential([\n",
    "    L.Input(shape = X.shape[1]),\n",
    "    L.Dense(512, activation = 'relu'),\n",
    "    L.Dropout(0.5),\n",
    "    L.Dense(256, activation = 'relu'),\n",
    "    L.Dropout(0.5),\n",
    "    ])"
   ]
  },
  {
   "cell_type": "code",
   "execution_count": null,
   "metadata": {
    "execution": {
     "iopub.execute_input": "2020-12-01T23:17:32.391169Z",
     "iopub.status.busy": "2020-12-01T23:17:32.390176Z",
     "iopub.status.idle": "2020-12-01T23:17:33.038664Z",
     "shell.execute_reply": "2020-12-01T23:17:33.040088Z"
    },
    "papermill": {
     "duration": 1.475327,
     "end_time": "2020-12-01T23:17:33.041630",
     "exception": false,
     "start_time": "2020-12-01T23:17:31.566303",
     "status": "completed"
    },
    "tags": []
   },
   "outputs": [],
   "source": [
    "# NLP\n",
    "nlp_model = Sequential([\n",
    "    L.Input(shape=MAX_SEQUENCE_LENGTH, name=\"seq_description\"),\n",
    "    L.Embedding(len(tokenize.word_index)+1, MAX_SEQUENCE_LENGTH,),\n",
    "    L.LSTM(256, return_sequences=True),\n",
    "    L.Dropout(0.5),\n",
    "    L.LSTM(128),\n",
    "    L.Dropout(0.25),\n",
    "    L.Dense(64),\n",
    "    ])"
   ]
  },
  {
   "cell_type": "code",
   "execution_count": null,
   "metadata": {
    "_kg_hide-output": true,
    "execution": {
     "iopub.execute_input": "2020-12-01T23:17:34.903505Z",
     "iopub.status.busy": "2020-12-01T23:17:34.901003Z",
     "iopub.status.idle": "2020-12-01T23:17:35.295580Z",
     "shell.execute_reply": "2020-12-01T23:17:35.294110Z"
    },
    "papermill": {
     "duration": 1.172382,
     "end_time": "2020-12-01T23:17:35.295725",
     "exception": false,
     "start_time": "2020-12-01T23:17:34.123343",
     "status": "completed"
    },
    "tags": []
   },
   "outputs": [],
   "source": [
    "#объединяем выходы трех нейросетей\n",
    "combinedInput = L.concatenate([efficientnet_output, tabular_model.output, nlp_model.output])\n",
    "\n",
    "# being our regression head\n",
    "head = L.Dense(256, activation=\"relu\")(combinedInput)\n",
    "head = L.Dense(1,)(head)\n",
    "\n",
    "model = Model(inputs=[efficientnet_model.input, tabular_model.input, nlp_model.input], outputs=head)\n",
    "model.summary()"
   ]
  },
  {
   "cell_type": "code",
   "execution_count": null,
   "metadata": {
    "execution": {
     "iopub.execute_input": "2020-12-01T23:17:36.992914Z",
     "iopub.status.busy": "2020-12-01T23:17:36.991123Z",
     "iopub.status.idle": "2020-12-01T23:17:37.000507Z",
     "shell.execute_reply": "2020-12-01T23:17:37.000010Z"
    },
    "papermill": {
     "duration": 0.803112,
     "end_time": "2020-12-01T23:17:37.000614",
     "exception": false,
     "start_time": "2020-12-01T23:17:36.197502",
     "status": "completed"
    },
    "tags": []
   },
   "outputs": [],
   "source": [
    "optimizer = tf.keras.optimizers.Adam(0.05)\n",
    "model.compile(loss='MAPE',optimizer=optimizer, metrics=['MAPE'])"
   ]
  },
  {
   "cell_type": "code",
   "execution_count": null,
   "metadata": {
    "execution": {
     "iopub.execute_input": "2020-12-01T23:17:38.538480Z",
     "iopub.status.busy": "2020-12-01T23:17:38.537809Z",
     "iopub.status.idle": "2020-12-01T23:17:38.542049Z",
     "shell.execute_reply": "2020-12-01T23:17:38.541574Z"
    },
    "papermill": {
     "duration": 0.776658,
     "end_time": "2020-12-01T23:17:38.542177",
     "exception": false,
     "start_time": "2020-12-01T23:17:37.765519",
     "status": "completed"
    },
    "tags": []
   },
   "outputs": [],
   "source": [
    "checkpoint = ModelCheckpoint('./best_model.hdf5', monitor=['val_MAPE'], verbose=0, mode='min')\n",
    "earlystop = EarlyStopping(monitor='val_MAPE', patience=10, restore_best_weights=True,)\n",
    "callbacks_list = [checkpoint, earlystop]"
   ]
  },
  {
   "cell_type": "code",
   "execution_count": null,
   "metadata": {
    "_kg_hide-output": true,
    "execution": {
     "iopub.execute_input": "2020-12-01T23:17:40.171594Z",
     "iopub.status.busy": "2020-12-01T23:17:40.169820Z",
     "iopub.status.idle": "2020-12-02T01:37:22.186870Z",
     "shell.execute_reply": "2020-12-02T01:37:22.187990Z"
    },
    "papermill": {
     "duration": 8382.880065,
     "end_time": "2020-12-02T01:37:22.188257",
     "exception": false,
     "start_time": "2020-12-01T23:17:39.308192",
     "status": "completed"
    },
    "tags": []
   },
   "outputs": [],
   "source": [
    "history = model.fit(train_dataset.batch(20),\n",
    "                    epochs=60,\n",
    "                    validation_data = test_dataset.batch(20),\n",
    "                    callbacks=callbacks_list\n",
    "                   )"
   ]
  },
  {
   "cell_type": "code",
   "execution_count": null,
   "metadata": {
    "execution": {
     "iopub.execute_input": "2020-12-02T01:37:30.954203Z",
     "iopub.status.busy": "2020-12-02T01:37:30.952785Z",
     "iopub.status.idle": "2020-12-02T01:37:31.148501Z",
     "shell.execute_reply": "2020-12-02T01:37:31.149082Z"
    },
    "papermill": {
     "duration": 4.282028,
     "end_time": "2020-12-02T01:37:31.149251",
     "exception": false,
     "start_time": "2020-12-02T01:37:26.867223",
     "status": "completed"
    },
    "tags": []
   },
   "outputs": [],
   "source": [
    "plt.title('Loss')\n",
    "plt.plot(history.history['MAPE'], label='train')\n",
    "plt.plot(history.history['val_MAPE'], label='test')\n",
    "plt.show();"
   ]
  },
  {
   "cell_type": "code",
   "execution_count": null,
   "metadata": {
    "execution": {
     "iopub.execute_input": "2020-12-02T01:37:39.303053Z",
     "iopub.status.busy": "2020-12-02T01:37:39.267110Z",
     "iopub.status.idle": "2020-12-02T01:37:43.193337Z",
     "shell.execute_reply": "2020-12-02T01:37:43.192322Z"
    },
    "papermill": {
     "duration": 8.101841,
     "end_time": "2020-12-02T01:37:43.193477",
     "exception": false,
     "start_time": "2020-12-02T01:37:35.091636",
     "status": "completed"
    },
    "tags": []
   },
   "outputs": [],
   "source": [
    "model.load_weights('./best_model.hdf5')\n",
    "model.save('./nn_final.hdf5')"
   ]
  },
  {
   "cell_type": "code",
   "execution_count": null,
   "metadata": {
    "execution": {
     "iopub.execute_input": "2020-12-02T01:37:52.164436Z",
     "iopub.status.busy": "2020-12-02T01:37:52.163317Z",
     "iopub.status.idle": "2020-12-02T01:38:06.614927Z",
     "shell.execute_reply": "2020-12-02T01:38:06.615859Z"
    },
    "papermill": {
     "duration": 19.031211,
     "end_time": "2020-12-02T01:38:06.616022",
     "exception": false,
     "start_time": "2020-12-02T01:37:47.584811",
     "status": "completed"
    },
    "tags": []
   },
   "outputs": [],
   "source": [
    "test_predict_nn3 = model.predict(test_dataset.batch(30))\n",
    "print(f\"TEST mape: {(mape(y_test, test_predict_nn3[:,0]))*100:0.2f}%\")"
   ]
  },
  {
   "cell_type": "code",
   "execution_count": null,
   "metadata": {
    "execution": {
     "iopub.execute_input": "2020-12-02T01:38:14.710496Z",
     "iopub.status.busy": "2020-12-02T01:38:14.709442Z",
     "iopub.status.idle": "2020-12-02T01:38:28.886383Z",
     "shell.execute_reply": "2020-12-02T01:38:28.885762Z"
    },
    "papermill": {
     "duration": 18.102153,
     "end_time": "2020-12-02T01:38:28.886519",
     "exception": false,
     "start_time": "2020-12-02T01:38:10.784366",
     "status": "completed"
    },
    "tags": []
   },
   "outputs": [],
   "source": [
    "sub_predict_nn3 = model.predict(sub_dataset.batch(30))\n",
    "sample_submission['price'] = sub_predict_nn3[:,0]\n",
    "sample_submission.to_csv('nn3_submission.csv', index=False)"
   ]
  },
  {
   "cell_type": "markdown",
   "metadata": {
    "papermill": {
     "duration": 3.926433,
     "end_time": "2020-12-02T01:38:37.132341",
     "exception": false,
     "start_time": "2020-12-02T01:38:33.205908",
     "status": "completed"
    },
    "tags": []
   },
   "source": [
    "\n",
    "#### Общие рекомендации:\n",
    "* Попробовать разные архитектуры\n",
    "* Провести более детальный анализ результатов\n",
    "* Попробовать различные подходы в управление LR и оптимизаторы\n",
    "* Поработать с таргетом\n",
    "* Использовать Fine-tuning\n",
    "\n",
    "#### Tabular\n",
    "* В нейросеть желательно подавать данные с распределением, близким к нормальному, поэтому от некоторых числовых признаков имеет смысл взять логарифм перед нормализацией. Пример:\n",
    "`modelDateNorm = np.log(2020 - data['modelDate'])`\n",
    "Статья по теме: https://habr.com/ru/company/ods/blog/325422\n",
    "\n",
    "* Извлечение числовых значений из текста:\n",
    "Парсинг признаков 'engineDisplacement', 'enginePower', 'Владение' для извлечения числовых значений.\n",
    "\n",
    "* Cокращение размерности категориальных признаков\n",
    "Признак name 'name' содержит данные, которые уже есть в других столбцах ('enginePower', 'engineDisplacement', 'vehicleTransmission'). Можно удалить эти данные. Затем можно еще сильнее сократить размерность, например выделив наличие xDrive в качестве отдельного признака.\n",
    "\n",
    "* Поработать над Feature engineering\n",
    "\n",
    "\n",
    "\n",
    "#### NLP\n",
    "* Выделить из описаний часто встречающиеся блоки текста, заменив их на кодовые слова или удалив\n",
    "* Сделать предобработку текста, например сделать лемматизацию - алгоритм ставящий все слова в форму по умолчанию (глаголы в инфинитив и т. д.), чтобы токенайзер не преобразовывал разные формы слова в разные числа\n",
    "Статья по теме: https://habr.com/ru/company/Voximplant/blog/446738/\n",
    "* Поработать над алгоритмами очистки и аугментации текста\n",
    "\n",
    "\n",
    "\n",
    "#### CV\n",
    "* Попробовать различные аугментации\n",
    "* Fine-tuning"
   ]
  },
  {
   "cell_type": "markdown",
   "metadata": {
    "papermill": {
     "duration": 4.191371,
     "end_time": "2020-12-02T01:38:45.153751",
     "exception": false,
     "start_time": "2020-12-02T01:38:40.962380",
     "status": "completed"
    },
    "tags": []
   },
   "source": [
    "# Blend"
   ]
  },
  {
   "cell_type": "code",
   "execution_count": null,
   "metadata": {
    "execution": {
     "iopub.execute_input": "2020-12-02T01:38:52.878952Z",
     "iopub.status.busy": "2020-12-02T01:38:52.877842Z",
     "iopub.status.idle": "2020-12-02T01:38:52.882577Z",
     "shell.execute_reply": "2020-12-02T01:38:52.883217Z"
    },
    "papermill": {
     "duration": 3.912927,
     "end_time": "2020-12-02T01:38:52.883380",
     "exception": false,
     "start_time": "2020-12-02T01:38:48.970453",
     "status": "completed"
    },
    "tags": []
   },
   "outputs": [],
   "source": [
    "blend_predict = (test_predict_catboost + test_predict_nn3[:,0]) / 2\n",
    "print(f\"TEST mape: {(mape(y_test, blend_predict))*100:0.2f}%\")"
   ]
  },
  {
   "cell_type": "code",
   "execution_count": null,
   "metadata": {
    "execution": {
     "iopub.execute_input": "2020-12-02T01:39:01.292553Z",
     "iopub.status.busy": "2020-12-02T01:39:01.286715Z",
     "iopub.status.idle": "2020-12-02T01:39:01.298459Z",
     "shell.execute_reply": "2020-12-02T01:39:01.297732Z"
    },
    "papermill": {
     "duration": 4.279708,
     "end_time": "2020-12-02T01:39:01.298575",
     "exception": false,
     "start_time": "2020-12-02T01:38:57.018867",
     "status": "completed"
    },
    "tags": []
   },
   "outputs": [],
   "source": [
    "blend_sub_predict = (sub_predict_catboost + sub_predict_nn3[:,0]) / 2\n",
    "sample_submission['price'] = blend_sub_predict\n",
    "sample_submission.to_csv('blend_submission.csv', index=False)"
   ]
  },
  {
   "cell_type": "markdown",
   "metadata": {
    "papermill": {
     "duration": 3.974605,
     "end_time": "2020-12-02T01:39:09.295164",
     "exception": false,
     "start_time": "2020-12-02T01:39:05.320559",
     "status": "completed"
    },
    "tags": []
   },
   "source": [
    "# Model Bonus: проброс признака"
   ]
  },
  {
   "cell_type": "code",
   "execution_count": null,
   "metadata": {
    "execution": {
     "iopub.execute_input": "2020-12-02T01:39:17.297157Z",
     "iopub.status.busy": "2020-12-02T01:39:17.296036Z",
     "iopub.status.idle": "2020-12-02T01:39:17.342539Z",
     "shell.execute_reply": "2020-12-02T01:39:17.341934Z"
    },
    "papermill": {
     "duration": 4.152908,
     "end_time": "2020-12-02T01:39:17.342652",
     "exception": false,
     "start_time": "2020-12-02T01:39:13.189744",
     "status": "completed"
    },
    "tags": []
   },
   "outputs": [],
   "source": [
    "# MLP\n",
    "model_mlp = Sequential()\n",
    "model_mlp.add(L.Dense(512, input_dim=X_train.shape[1], activation=\"relu\"))\n",
    "model_mlp.add(L.Dropout(0.5))\n",
    "model_mlp.add(L.Dense(256, activation=\"relu\"))\n",
    "model_mlp.add(L.Dropout(0.5))"
   ]
  },
  {
   "cell_type": "code",
   "execution_count": null,
   "metadata": {
    "execution": {
     "iopub.execute_input": "2020-12-02T01:39:25.375129Z",
     "iopub.status.busy": "2020-12-02T01:39:25.372765Z",
     "iopub.status.idle": "2020-12-02T01:39:25.386509Z",
     "shell.execute_reply": "2020-12-02T01:39:25.385966Z"
    },
    "papermill": {
     "duration": 4.247871,
     "end_time": "2020-12-02T01:39:25.386627",
     "exception": false,
     "start_time": "2020-12-02T01:39:21.138756",
     "status": "completed"
    },
    "tags": []
   },
   "outputs": [],
   "source": [
    "# FEATURE Input\n",
    "# Iput\n",
    "productiondate = L.Input(shape=[1], name=\"productiondate\")\n",
    "# Embeddings layers\n",
    "emb_productiondate = L.Embedding(len(X.productionDate.unique().tolist())+1, 20)(productiondate)\n",
    "f_productiondate = L.Flatten()(emb_productiondate)"
   ]
  },
  {
   "cell_type": "code",
   "execution_count": null,
   "metadata": {
    "execution": {
     "iopub.execute_input": "2020-12-02T01:39:34.140299Z",
     "iopub.status.busy": "2020-12-02T01:39:34.139245Z",
     "iopub.status.idle": "2020-12-02T01:39:34.166599Z",
     "shell.execute_reply": "2020-12-02T01:39:34.165600Z"
    },
    "papermill": {
     "duration": 4.43381,
     "end_time": "2020-12-02T01:39:34.166724",
     "exception": false,
     "start_time": "2020-12-02T01:39:29.732914",
     "status": "completed"
    },
    "tags": []
   },
   "outputs": [],
   "source": [
    "combinedInput = L.concatenate([model_mlp.output, f_productiondate,])\n",
    "# being our regression head\n",
    "head = L.Dense(64, activation=\"relu\")(combinedInput)\n",
    "head = L.Dense(1, activation=\"linear\")(head)\n",
    "\n",
    "model = Model(inputs=[model_mlp.input, productiondate], outputs=head)"
   ]
  },
  {
   "cell_type": "code",
   "execution_count": null,
   "metadata": {
    "_kg_hide-output": true,
    "execution": {
     "iopub.execute_input": "2020-12-02T01:39:42.197434Z",
     "iopub.status.busy": "2020-12-02T01:39:42.196265Z",
     "iopub.status.idle": "2020-12-02T01:39:42.204165Z",
     "shell.execute_reply": "2020-12-02T01:39:42.198805Z"
    },
    "papermill": {
     "duration": 3.920166,
     "end_time": "2020-12-02T01:39:42.204341",
     "exception": false,
     "start_time": "2020-12-02T01:39:38.284175",
     "status": "completed"
    },
    "tags": []
   },
   "outputs": [],
   "source": [
    "model.summary()"
   ]
  },
  {
   "cell_type": "code",
   "execution_count": null,
   "metadata": {
    "execution": {
     "iopub.execute_input": "2020-12-02T01:39:50.045207Z",
     "iopub.status.busy": "2020-12-02T01:39:50.044072Z",
     "iopub.status.idle": "2020-12-02T01:39:50.050638Z",
     "shell.execute_reply": "2020-12-02T01:39:50.050156Z"
    },
    "papermill": {
     "duration": 3.995958,
     "end_time": "2020-12-02T01:39:50.050754",
     "exception": false,
     "start_time": "2020-12-02T01:39:46.054796",
     "status": "completed"
    },
    "tags": []
   },
   "outputs": [],
   "source": [
    "optimizer = tf.keras.optimizers.Adam(0.01)\n",
    "model.compile(loss='MAPE',optimizer=optimizer, metrics=['MAPE'])"
   ]
  },
  {
   "cell_type": "code",
   "execution_count": null,
   "metadata": {
    "execution": {
     "iopub.execute_input": "2020-12-02T01:39:57.516003Z",
     "iopub.status.busy": "2020-12-02T01:39:57.515042Z",
     "iopub.status.idle": "2020-12-02T01:40:10.101964Z",
     "shell.execute_reply": "2020-12-02T01:40:10.102887Z"
    },
    "papermill": {
     "duration": 16.297698,
     "end_time": "2020-12-02T01:40:10.103087",
     "exception": false,
     "start_time": "2020-12-02T01:39:53.805389",
     "status": "completed"
    },
    "tags": []
   },
   "outputs": [],
   "source": [
    "history = model.fit([X_train, X_train.productionDate.values], y_train,\n",
    "                    batch_size=512,\n",
    "                    epochs=500, # фактически мы обучаем пока EarlyStopping не остановит обучение\n",
    "                    validation_data=([X_test, X_test.productionDate.values], y_test),\n",
    "                    callbacks=callbacks_list\n",
    "                   )"
   ]
  },
  {
   "cell_type": "code",
   "execution_count": null,
   "metadata": {
    "execution": {
     "iopub.execute_input": "2020-12-02T01:40:18.138065Z",
     "iopub.status.busy": "2020-12-02T01:40:18.136875Z",
     "iopub.status.idle": "2020-12-02T01:40:18.281661Z",
     "shell.execute_reply": "2020-12-02T01:40:18.280734Z"
    },
    "papermill": {
     "duration": 3.992753,
     "end_time": "2020-12-02T01:40:18.281836",
     "exception": false,
     "start_time": "2020-12-02T01:40:14.289083",
     "status": "completed"
    },
    "tags": []
   },
   "outputs": [],
   "source": [
    "model.load_weights('./best_model.hdf5')\n",
    "test_predict_nn_bonus = model.predict([X_test, X_test.productionDate.values])\n",
    "print(f\"TEST mape: {(mape(y_test, test_predict_nn_bonus[:,0]))*100:0.2f}%\")"
   ]
  }
 ],
 "metadata": {
  "kernelspec": {
   "display_name": "Python 3",
   "language": "python",
   "name": "python3"
  },
  "language_info": {
   "codemirror_mode": {
    "name": "ipython",
    "version": 3
   },
   "file_extension": ".py",
   "mimetype": "text/x-python",
   "name": "python",
   "nbconvert_exporter": "python",
   "pygments_lexer": "ipython3",
   "version": "3.8.5"
  },
  "papermill": {
   "duration": 9447.605766,
   "end_time": "2020-12-02T01:40:32.291689",
   "environment_variables": {},
   "exception": null,
   "input_path": "__notebook__.ipynb",
   "output_path": "__notebook__.ipynb",
   "parameters": {},
   "start_time": "2020-12-01T23:03:04.685923",
   "version": "2.1.0"
  }
 },
 "nbformat": 4,
 "nbformat_minor": 4
}
